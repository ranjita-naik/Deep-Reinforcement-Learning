{
 "cells": [
  {
   "cell_type": "code",
   "execution_count": 2,
   "metadata": {
    "collapsed": false
   },
   "outputs": [],
   "source": [
    "import gym\n",
    "import numpy as np\n",
    "import matplotlib.pyplot as plt\n",
    "from __future__ import print_function, division\n",
    "from builtins import range\n",
    "\n",
    "%matplotlib inline"
   ]
  },
  {
   "cell_type": "code",
   "execution_count": 9,
   "metadata": {
    "collapsed": true
   },
   "outputs": [],
   "source": [
    "def build_state(features):\n",
    "    return int(''.join(map(str, features)))\n",
    "\n",
    "def to_bin(value, bins):\n",
    "    return np.digitize(x=[value], bins=bins)[0]"
   ]
  },
  {
   "cell_type": "code",
   "execution_count": 10,
   "metadata": {
    "collapsed": false
   },
   "outputs": [],
   "source": [
    "class FeatureTransformer:\n",
    "    def __init__(self):\n",
    "        self.cart_position_bins = np.linspace(-2.4, 2.4, 9)\n",
    "        self.cart_velocity_bins = np.linspace(-2, 2, 9) \n",
    "        self.pole_angle_bins = np.linspace(-0.4, 0.4, 9)\n",
    "        self.pole_velocity_bins = np.linspace(-3.5, 3.5, 9) \n",
    "\n",
    "\n",
    "\n",
    "    def transform(self, observation):\n",
    "        cart_pos, cart_vel, pole_angle, pole_vel = observation\n",
    "        return build_state([\n",
    "            to_bin(cart_pos, self.cart_position_bins),\n",
    "            to_bin(cart_vel, self.cart_velocity_bins),\n",
    "            to_bin(pole_angle, self.pole_angle_bins),\n",
    "            to_bin(pole_vel, self.pole_velocity_bins),\n",
    "        ])"
   ]
  },
  {
   "cell_type": "code",
   "execution_count": 11,
   "metadata": {
    "collapsed": true
   },
   "outputs": [],
   "source": [
    "class Model:\n",
    "    def __init__(self, env, feature_transformer):\n",
    "        self.env = env\n",
    "        self.feature_transformer = feature_transformer\n",
    "        num_states = 10**env.observation_space.shape[0]\n",
    "        num_actions = env.action_space.n\n",
    "        self.Q = np.random.uniform(low=-1, high=1, size=(num_states, num_actions))\n",
    "\n",
    "    def predict(self, s):\n",
    "        x = self.feature_transformer.transform(s)\n",
    "        return self.Q[x]\n",
    "\n",
    "\n",
    "    def update(self, s, a, G):\n",
    "        x = self.feature_transformer.transform(s)\n",
    "        self.Q[x,a] += 1e-2*(G - self.Q[x,a])\n",
    "\n",
    "\n",
    "    def sample_action(self, s, eps):\n",
    "        if np.random.random() < eps:\n",
    "            return self.env.action_space.sample()\n",
    "        else:\n",
    "            p = self.predict(s)\n",
    "        return np.argmax(p)"
   ]
  },
  {
   "cell_type": "code",
   "execution_count": 12,
   "metadata": {
    "collapsed": true
   },
   "outputs": [],
   "source": [
    "def play_episode(model, eps, gamma):\n",
    "    observation = env.reset()\n",
    "    done = False\n",
    "    total_reward = 0\n",
    "\n",
    "    while not done:\n",
    "        action = model.sample_action(observation, eps)\n",
    "        prev_observation = observation\n",
    "        observation, reward, done, info = env.step(action)\n",
    "        total_reward += reward\n",
    "\n",
    "        if done:\n",
    "            reward = - 200\n",
    "            \n",
    "        G = reward + gamma*np.max(model.predict(observation))\n",
    "        model.update(prev_observation, action, G)\n",
    "\n",
    "    return total_reward"
   ]
  },
  {
   "cell_type": "code",
   "execution_count": 13,
   "metadata": {
    "collapsed": true
   },
   "outputs": [],
   "source": [
    "def plot_running_avg(total_rewards):\n",
    "    n = len(total_rewards)\n",
    "    running_avg = np.empty(n)\n",
    "\n",
    "    for t in range(n):\n",
    "        running_avg[t] = total_rewards[max(0, t-100):(t+1)].mean()\n",
    "\n",
    "    plt.plot(running_avg)\n",
    "    plt.title(\"Running Average\")\n",
    "    plt.show()"
   ]
  },
  {
   "cell_type": "code",
   "execution_count": 14,
   "metadata": {
    "collapsed": false
   },
   "outputs": [
    {
     "name": "stdout",
     "output_type": "stream",
     "text": [
      "episode: 0 total reward: 17.0 eps: 1.0\n",
      "episode: 1000 total reward: 185.0 eps: 0.0316069770621\n",
      "episode: 2000 total reward: 165.0 eps: 0.0223550917005\n",
      "episode: 3000 total reward: 96.0 eps: 0.0182543764409\n",
      "episode: 4000 total reward: 146.0 eps: 0.0158094122478\n",
      "episode: 5000 total reward: 104.0 eps: 0.0141407216223\n",
      "episode: 6000 total reward: 168.0 eps: 0.0129088687931\n",
      "episode: 7000 total reward: 200.0 eps: 0.0119514324501\n",
      "episode: 8000 total reward: 182.0 eps: 0.0111796411818\n",
      "episode: 9000 total reward: 133.0 eps: 0.0105403399757\n",
      "avg reward for last 100 episodes: 157.34\n",
      "total steps: 1361777.0\n"
     ]
    },
    {
     "data": {
      "image/png": "[encoded data removed]",
      "text/plain": [
       "<matplotlib.figure.Figure at 0x264b61b4240>"
      ]
     },
     "metadata": {},
     "output_type": "display_data"
    },
    {
     "data": {
      "image/png": "[encoded data removed]",
      "text/plain": [
       "<matplotlib.figure.Figure at 0x264b92d6e10>"
      ]
     },
     "metadata": {},
     "output_type": "display_data"
    }
   ],
   "source": [
    "if __name__ == '__main__':\n",
    "    env = gym.make('CartPole-v0')\n",
    "    ft = FeatureTransformer()\n",
    "    model = Model(env, ft)\n",
    "    gamma = 0.9\n",
    "\n",
    "\n",
    "    N = 10000\n",
    "    total_rewards = np.empty(N)\n",
    "    for n in range(N):\n",
    "        eps = 1.0/np.sqrt(n+1)\n",
    "        total_reward = play_episode(model, eps, gamma)\n",
    "        total_rewards[n] = total_reward\n",
    "\n",
    "        if n % 1000 == 0:\n",
    "            print(\"episode:\", n, \"total reward:\", total_reward, \"eps:\", eps)\n",
    "    print(\"avg reward for last 100 episodes:\", total_rewards[-100:].mean())\n",
    "    print(\"total steps:\", total_rewards.sum())\n",
    "\n",
    "\n",
    "    plt.plot(total_rewards)\n",
    "    plt.title(\"Rewards\")\n",
    "    plt.show()\n",
    "\n",
    "    plot_running_avg(total_rewards)"
   ]
  },
  {
   "cell_type": "code",
   "execution_count": null,
   "metadata": {
    "collapsed": true
   },
   "outputs": [],
   "source": []
  }
 ],
 "metadata": {
  "kernelspec": {
   "display_name": "Python 3",
   "language": "python",
   "name": "python3"
  },
  "language_info": {
   "codemirror_mode": {
    "name": "ipython",
    "version": 3
   },
   "file_extension": ".py",
   "mimetype": "text/x-python",
   "name": "python",
   "nbconvert_exporter": "python",
   "pygments_lexer": "ipython3",
   "version": "3.6.2"
  }
 },
 "nbformat": 4,
 "nbformat_minor": 0
}
