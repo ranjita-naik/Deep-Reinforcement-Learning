{
 "cells": [
  {
   "cell_type": "code",
   "execution_count": 1,
   "metadata": {
    "collapsed": false
   },
   "outputs": [],
   "source": [
    "import gym\n",
    "import numpy as np\n",
    "import matplotlib.pyplot as plt\n",
    "from __future__ import print_function, division\n",
    "from builtins import range\n",
    "\n",
    "%matplotlib inline"
   ]
  },
  {
   "cell_type": "code",
   "execution_count": 2,
   "metadata": {
    "collapsed": true
   },
   "outputs": [],
   "source": [
    "def get_action(s, w):\n",
    "    return 1 if s.dot(w) > 0 else 0"
   ]
  },
  {
   "cell_type": "code",
   "execution_count": 3,
   "metadata": {
    "collapsed": true
   },
   "outputs": [],
   "source": [
    "def play_one_episode(env, params):\n",
    "    observation = env.reset()\n",
    "    done = False\n",
    "\n",
    "    t = 0\n",
    "    while not done:\n",
    "        t += 1\n",
    "        env.render()\n",
    "        action = get_action(observation, params)\n",
    "        observation, reward, done, info = env.step(action)\n",
    "        \n",
    "    return t"
   ]
  },
  {
   "cell_type": "code",
   "execution_count": 4,
   "metadata": {
    "collapsed": true
   },
   "outputs": [],
   "source": [
    "def play_multiple_episodes(env, n, params):\n",
    "\n",
    "    episode_lengths = np.empty(n)\n",
    "    for i in range(n):\n",
    "        episode_lengths[i] = play_one_episode(env, params)\n",
    "\n",
    "    avg_length = episode_lengths.mean()\n",
    "    print(\"avg length:\", avg_length)\n",
    "    return avg_length"
   ]
  },
  {
   "cell_type": "code",
   "execution_count": 5,
   "metadata": {
    "collapsed": true
   },
   "outputs": [],
   "source": [
    "def random_search(env):\n",
    "\n",
    "    episode_lengths = []\n",
    "    best = 0\n",
    "    params = None\n",
    "    for t in range(100):\n",
    "        new_params = np.random.random(4)\n",
    "        avg_length = play_multiple_episodes(env, 100, new_params)\n",
    "        episode_lengths.append(avg_length)\n",
    "\n",
    "        if avg_length > best:\n",
    "            params = new_params\n",
    "            best = avg_length\n",
    "    return episode_lengths, params"
   ]
  },
  {
   "cell_type": "code",
   "execution_count": 6,
   "metadata": {
    "collapsed": false
   },
   "outputs": [
    {
     "name": "stdout",
     "output_type": "stream",
     "text": [
      "avg length: 82.24\n",
      "avg length: 128.03\n",
      "avg length: 200.0\n",
      "avg length: 165.82\n",
      "avg length: 200.0\n",
      "avg length: 9.46\n",
      "avg length: 9.64\n",
      "avg length: 200.0\n",
      "avg length: 197.6\n",
      "avg length: 35.3\n",
      "avg length: 9.59\n",
      "avg length: 10.38\n",
      "avg length: 44.26\n",
      "avg length: 9.73\n",
      "avg length: 41.05\n",
      "avg length: 200.0\n",
      "avg length: 102.51\n",
      "avg length: 9.82\n",
      "avg length: 9.71\n",
      "avg length: 124.77\n",
      "avg length: 9.84\n",
      "avg length: 80.6\n",
      "avg length: 9.42\n",
      "avg length: 200.0\n",
      "avg length: 71.31\n",
      "avg length: 94.93\n",
      "avg length: 136.08\n",
      "avg length: 156.93\n",
      "avg length: 34.37\n",
      "avg length: 132.11\n",
      "avg length: 200.0\n",
      "avg length: 9.64\n",
      "avg length: 9.76\n",
      "avg length: 99.18\n",
      "avg length: 147.79\n",
      "avg length: 109.13\n",
      "avg length: 9.45\n",
      "avg length: 50.58\n",
      "avg length: 9.66\n",
      "avg length: 200.0\n",
      "avg length: 9.73\n",
      "avg length: 9.88\n",
      "avg length: 126.29\n",
      "avg length: 9.57\n",
      "avg length: 200.0\n",
      "avg length: 9.57\n",
      "avg length: 141.72\n",
      "avg length: 9.68\n",
      "avg length: 9.6\n",
      "avg length: 141.94\n",
      "avg length: 91.04\n",
      "avg length: 111.5\n",
      "avg length: 198.48\n",
      "avg length: 74.41\n",
      "avg length: 127.24\n",
      "avg length: 200.0\n",
      "avg length: 186.35\n",
      "avg length: 127.48\n",
      "avg length: 9.41\n",
      "avg length: 11.14\n",
      "avg length: 10.79\n",
      "avg length: 128.22\n",
      "avg length: 9.76\n",
      "avg length: 98.92\n",
      "avg length: 9.75\n",
      "avg length: 9.7\n",
      "avg length: 200.0\n",
      "avg length: 175.42\n",
      "avg length: 191.51\n",
      "avg length: 200.0\n",
      "avg length: 9.65\n",
      "avg length: 24.76\n",
      "avg length: 9.49\n",
      "avg length: 9.42\n",
      "avg length: 112.5\n",
      "avg length: 9.77\n",
      "avg length: 141.48\n",
      "avg length: 85.63\n",
      "avg length: 9.56\n",
      "avg length: 200.0\n",
      "avg length: 9.85\n",
      "avg length: 9.45\n",
      "avg length: 159.84\n",
      "avg length: 186.48\n",
      "avg length: 9.61\n",
      "avg length: 9.58\n",
      "avg length: 156.81\n",
      "avg length: 9.74\n",
      "avg length: 9.34\n",
      "avg length: 200.0\n",
      "avg length: 85.12\n",
      "avg length: 9.52\n",
      "avg length: 55.55\n",
      "avg length: 48.46\n",
      "avg length: 196.77\n",
      "avg length: 49.89\n",
      "avg length: 162.3\n",
      "avg length: 9.62\n",
      "avg length: 87.9\n",
      "avg length: 112.91\n"
     ]
    },
    {
     "data": {
      "image/png": "[encoded data removed]",
      "text/plain": [
       "<matplotlib.figure.Figure at 0x187b66d3048>"
      ]
     },
     "metadata": {},
     "output_type": "display_data"
    },
    {
     "name": "stdout",
     "output_type": "stream",
     "text": [
      "Final weights\n",
      "avg length: 200.0\n"
     ]
    }
   ],
   "source": [
    "if __name__ == '__main__':\n",
    "\n",
    "    env = gym.make('CartPole-v0')\n",
    "    episode_lengths, params = random_search(env)\n",
    "    plt.plot(episode_lengths)\n",
    "    plt.show()\n",
    "\n",
    "    print(\"Final weights\")\n",
    "    play_multiple_episodes(env, 100, params)"
   ]
  },
  {
   "cell_type": "code",
   "execution_count": null,
   "metadata": {
    "collapsed": true
   },
   "outputs": [],
   "source": []
  }
 ],
 "metadata": {
  "kernelspec": {
   "display_name": "Python 3",
   "language": "python",
   "name": "python3"
  },
  "language_info": {
   "codemirror_mode": {
    "name": "ipython",
    "version": 3
   },
   "file_extension": ".py",
   "mimetype": "text/x-python",
   "name": "python",
   "nbconvert_exporter": "python",
   "pygments_lexer": "ipython3",
   "version": "3.6.2"
  }
 },
 "nbformat": 4,
 "nbformat_minor": 0
}
